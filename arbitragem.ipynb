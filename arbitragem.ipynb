{
 "cells": [
  {
   "cell_type": "code",
   "execution_count": 1,
   "metadata": {},
   "outputs": [],
   "source": [
    "import math\n",
    "from sympy.solvers import solve\n",
    "from sympy import Symbol\n",
    "import ipywidgets as widgets\n",
    "import ipysheet\n"
   ]
  },
  {
   "cell_type": "code",
   "execution_count": 5,
   "metadata": {
    "tags": []
   },
   "outputs": [
    {
     "output_type": "display_data",
     "data": {
      "text/plain": "VBox(children=(Sheet(cells=(Cell(column_end=1, column_start=1, read_only=True, row_end=0, row_start=0, type='n…",
      "application/vnd.jupyter.widget-view+json": {
       "version_major": 2,
       "version_minor": 0,
       "model_id": "cfdbbc9229e54b02af42b89500ddbea0"
      }
     },
     "metadata": {}
    }
   ],
   "source": [
    "sheet = ipysheet.sheet(rows=10, columns=2, column_headers=False, row_headers=False)\n",
    "cell_odd_io = ipysheet.cell(0, 1,  label_left='ODD IO', read_only=True)\n",
    "cell_odd_entrada_365 = ipysheet.cell(1, 1, label_left='odd entrada 365', read_only=True)\n",
    "cell_val_entrada_io = ipysheet.cell(2, 1,  label_left='valor entrada IO')\n",
    "cell_val_entrada_365 = ipysheet.cell(3, 1, label_left='valor entrada 365', color='white', background_color='gray' ,read_only=True)\n",
    "cell_odd_saida_sucesso_365 = ipysheet.cell(4, 1,  label_left='odd saida sucesso 365', color='white', background_color='green', read_only=True)\n",
    "cell_odd_saida_falha_365 = ipysheet.cell(5, 1,  label_left='odd saida falha 365', color='white', background_color='red', read_only=True)\n",
    "cell_stake = ipysheet.cell(6, 1, 200, label_left='stake')\n",
    "cell_goal = ipysheet.cell(7, 1, 0.1, label_left='lucro(%)', read_only=True)\n",
    "cell_fail = ipysheet.cell(8, 1, 0.25, label_left='prejuizo(%)', read_only=True)\n",
    "cell_confianca = ipysheet.cell(9, 1, 2, label_left='indice confianca', read_only=True)\n",
    "\n",
    "# create a slider linked to cell a\n",
    "slider = widgets.FloatSlider(min=1.4, max=1.7, step=0.01, description='odd IO')\n",
    "stake_atual = widgets.IntSlider(min=200, max=1000, step=10, description='stake')\n",
    "goal = widgets.FloatSlider(min=0, max=0.5, step=0.05, description='lucro(%)')\n",
    "fail = widgets.FloatSlider(min=0, max=0.5, step=0.05, description='preju(%)')\n",
    "confianca = widgets.FloatSlider(min=1.95, max=2.1, step=0.01, description='indice')\n",
    "widgets.jslink((cell_odd_io, 'value'), (slider, 'value'))\n",
    "widgets.jslink((cell_stake, 'value'), (stake_atual, 'value'))\n",
    "widgets.jslink((cell_goal, 'value'), (goal, 'value'))\n",
    "widgets.jslink((cell_fail, 'value'), (fail, 'value'))\n",
    "widgets.jslink((cell_confianca, 'value'), (confianca, 'value'))\n",
    "\n",
    "# changes in a or b should trigger this function\n",
    "def entrada_365(change):\n",
    "    cell_val_entrada_365.value = cell_stake.value - cell_val_entrada_io.value\n",
    "def valor_entrada_io(change):\n",
    "    cell_val_entrada_io.value = math.ceil(((1+cell_goal.value)*cell_stake.value)/(cell_odd_io.value))\n",
    "\n",
    "def odd_saida_365(change):\n",
    "    cell_odd_saida_sucesso_365.value = ((1+cell_goal.value)*cell_stake.value)/cell_val_entrada_365.value\n",
    "    cell_odd_saida_falha_365.value = ((1-cell_fail.value)*cell_stake.value)/cell_val_entrada_365.value\n",
    "\n",
    "def get_odd_365_confianca_2(odd_io):\n",
    "    x = Symbol('x')\n",
    "    alpha = ((x-odd_io)/(x+odd_io))\n",
    "    result = solve(x*(1-alpha) - cell_confianca.value, x)\n",
    "    return(max(result))\n",
    "\n",
    "    \n",
    "def odd_entrada_365(change):\n",
    "    cell_odd_entrada_365.value = get_odd_365_confianca_2(cell_odd_io.value)\n",
    "\n",
    "cell_val_entrada_io.observe(entrada_365, 'value')\n",
    "\n",
    "\n",
    "cell_odd_io.observe(valor_entrada_io, 'value')\n",
    "cell_odd_io.observe(odd_entrada_365, 'value')\n",
    "\n",
    "cell_val_entrada_365.observe(odd_saida_365, 'value')\n",
    "\n",
    "widgets.VBox([sheet, slider, stake_atual,goal, fail, confianca])"
   ]
  },
  {
   "cell_type": "code",
   "execution_count": null,
   "metadata": {},
   "outputs": [],
   "source": []
  }
 ],
 "metadata": {
  "language_info": {
   "codemirror_mode": {
    "name": "ipython",
    "version": 3
   },
   "file_extension": ".py",
   "mimetype": "text/x-python",
   "name": "python",
   "nbconvert_exporter": "python",
   "pygments_lexer": "ipython3",
   "version": "3.7.7-final"
  },
  "orig_nbformat": 2,
  "kernelspec": {
   "name": "python37764bitbettestconda63964acf0cea4e599547d30c6ae353aa",
   "display_name": "Python 3.7.7 64-bit ('bet-test': conda)"
  }
 },
 "nbformat": 4,
 "nbformat_minor": 2
}